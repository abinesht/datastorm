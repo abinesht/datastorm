{
 "cells": [
  {
   "cell_type": "code",
   "execution_count": 293,
   "metadata": {
    "colab": {
     "base_uri": "https://localhost:8080/"
    },
    "id": "HMoN2A67bodG",
    "outputId": "df2e1a02-e9f5-4772-d2c6-fe935d409807"
   },
   "outputs": [
    {
     "name": "stdout",
     "output_type": "stream",
     "text": [
      "<class 'pandas.core.frame.DataFrame'>\n",
      "RangeIndex: 19921 entries, 0 to 19920\n",
      "Data columns (total 4 columns):\n",
      " #   Column        Non-Null Count  Dtype \n",
      "---  ------        --------------  ----- \n",
      " 0   CategoryCode  19921 non-null  object\n",
      " 1   ItemCode      19921 non-null  int64 \n",
      " 2   DateID        19921 non-null  object\n",
      " 3   DailySales    19921 non-null  int64 \n",
      "dtypes: int64(2), object(2)\n",
      "memory usage: 622.7+ KB\n"
     ]
    }
   ],
   "source": [
    "import pandas as pd\n",
    "\n",
    "#import dataset from local device\n",
    "url = \"https://raw.githubusercontent.com/abinesht/datastorm/main/train_data.csv\"\n",
    "df = pd.read_csv(url)\n",
    "df.info()"
   ]
  },
  {
   "cell_type": "code",
   "execution_count": 294,
   "metadata": {
    "colab": {
     "base_uri": "https://localhost:8080/",
     "height": 530
    },
    "id": "W3d4jjRgbtyj",
    "outputId": "69a5cce6-6c0c-4f64-c4b7-5d6755a45309"
   },
   "outputs": [
    {
     "name": "stdout",
     "output_type": "stream",
     "text": [
      "07\n",
      "The type of the date is now <class 'datetime.datetime'>\n",
      "The date is 2022-02-14 00:00:00\n"
     ]
    },
    {
     "name": "stderr",
     "output_type": "stream",
     "text": [
      "C:\\Users\\Abi\\AppData\\Local\\Temp/ipykernel_7504/2489002205.py:14: FutureWarning: Series.dt.weekofyear and Series.dt.week have been deprecated.  Please use Series.dt.isocalendar().week instead.\n",
      "  df['week']= df['date_format'].dt.weekofyear\n"
     ]
    },
    {
     "data": {
      "text/html": [
       "<div>\n",
       "<style scoped>\n",
       "    .dataframe tbody tr th:only-of-type {\n",
       "        vertical-align: middle;\n",
       "    }\n",
       "\n",
       "    .dataframe tbody tr th {\n",
       "        vertical-align: top;\n",
       "    }\n",
       "\n",
       "    .dataframe thead th {\n",
       "        text-align: right;\n",
       "    }\n",
       "</style>\n",
       "<table border=\"1\" class=\"dataframe\">\n",
       "  <thead>\n",
       "    <tr style=\"text-align: right;\">\n",
       "      <th></th>\n",
       "      <th>CategoryCode</th>\n",
       "      <th>ItemCode</th>\n",
       "      <th>DateID</th>\n",
       "      <th>DailySales</th>\n",
       "      <th>date_format</th>\n",
       "      <th>year</th>\n",
       "      <th>month</th>\n",
       "      <th>week</th>\n",
       "      <th>is_weekend</th>\n",
       "    </tr>\n",
       "  </thead>\n",
       "  <tbody>\n",
       "    <tr>\n",
       "      <th>0</th>\n",
       "      <td>2</td>\n",
       "      <td>117610</td>\n",
       "      <td>11/6/2021</td>\n",
       "      <td>7</td>\n",
       "      <td>2021-11-06</td>\n",
       "      <td>2021</td>\n",
       "      <td>11</td>\n",
       "      <td>44</td>\n",
       "      <td>1</td>\n",
       "    </tr>\n",
       "    <tr>\n",
       "      <th>1</th>\n",
       "      <td>4</td>\n",
       "      <td>836584</td>\n",
       "      <td>11/18/2021</td>\n",
       "      <td>16</td>\n",
       "      <td>2021-11-18</td>\n",
       "      <td>2021</td>\n",
       "      <td>11</td>\n",
       "      <td>46</td>\n",
       "      <td>0</td>\n",
       "    </tr>\n",
       "    <tr>\n",
       "      <th>2</th>\n",
       "      <td>1</td>\n",
       "      <td>370195</td>\n",
       "      <td>1/24/2022</td>\n",
       "      <td>6</td>\n",
       "      <td>2022-01-24</td>\n",
       "      <td>2022</td>\n",
       "      <td>1</td>\n",
       "      <td>4</td>\n",
       "      <td>0</td>\n",
       "    </tr>\n",
       "    <tr>\n",
       "      <th>3</th>\n",
       "      <td>2</td>\n",
       "      <td>172582</td>\n",
       "      <td>10/30/2021</td>\n",
       "      <td>5</td>\n",
       "      <td>2021-10-30</td>\n",
       "      <td>2021</td>\n",
       "      <td>10</td>\n",
       "      <td>43</td>\n",
       "      <td>1</td>\n",
       "    </tr>\n",
       "    <tr>\n",
       "      <th>4</th>\n",
       "      <td>2</td>\n",
       "      <td>1006009</td>\n",
       "      <td>10/30/2021</td>\n",
       "      <td>5</td>\n",
       "      <td>2021-10-30</td>\n",
       "      <td>2021</td>\n",
       "      <td>10</td>\n",
       "      <td>43</td>\n",
       "      <td>1</td>\n",
       "    </tr>\n",
       "    <tr>\n",
       "      <th>...</th>\n",
       "      <td>...</td>\n",
       "      <td>...</td>\n",
       "      <td>...</td>\n",
       "      <td>...</td>\n",
       "      <td>...</td>\n",
       "      <td>...</td>\n",
       "      <td>...</td>\n",
       "      <td>...</td>\n",
       "      <td>...</td>\n",
       "    </tr>\n",
       "    <tr>\n",
       "      <th>95</th>\n",
       "      <td>3</td>\n",
       "      <td>16936</td>\n",
       "      <td>11/17/2021</td>\n",
       "      <td>4</td>\n",
       "      <td>2021-11-17</td>\n",
       "      <td>2021</td>\n",
       "      <td>11</td>\n",
       "      <td>46</td>\n",
       "      <td>0</td>\n",
       "    </tr>\n",
       "    <tr>\n",
       "      <th>96</th>\n",
       "      <td>3</td>\n",
       "      <td>1060630</td>\n",
       "      <td>1/5/2022</td>\n",
       "      <td>2</td>\n",
       "      <td>2022-01-05</td>\n",
       "      <td>2022</td>\n",
       "      <td>1</td>\n",
       "      <td>1</td>\n",
       "      <td>0</td>\n",
       "    </tr>\n",
       "    <tr>\n",
       "      <th>97</th>\n",
       "      <td>1</td>\n",
       "      <td>1048975</td>\n",
       "      <td>11/18/2021</td>\n",
       "      <td>3</td>\n",
       "      <td>2021-11-18</td>\n",
       "      <td>2021</td>\n",
       "      <td>11</td>\n",
       "      <td>46</td>\n",
       "      <td>0</td>\n",
       "    </tr>\n",
       "    <tr>\n",
       "      <th>98</th>\n",
       "      <td>2</td>\n",
       "      <td>41830</td>\n",
       "      <td>2/9/2022</td>\n",
       "      <td>2</td>\n",
       "      <td>2022-02-09</td>\n",
       "      <td>2022</td>\n",
       "      <td>2</td>\n",
       "      <td>6</td>\n",
       "      <td>0</td>\n",
       "    </tr>\n",
       "    <tr>\n",
       "      <th>99</th>\n",
       "      <td>1</td>\n",
       "      <td>36898</td>\n",
       "      <td>1/5/2022</td>\n",
       "      <td>7</td>\n",
       "      <td>2022-01-05</td>\n",
       "      <td>2022</td>\n",
       "      <td>1</td>\n",
       "      <td>1</td>\n",
       "      <td>0</td>\n",
       "    </tr>\n",
       "  </tbody>\n",
       "</table>\n",
       "<p>100 rows × 9 columns</p>\n",
       "</div>"
      ],
      "text/plain": [
       "   CategoryCode  ItemCode      DateID  DailySales date_format  year  month  \\\n",
       "0             2    117610   11/6/2021           7  2021-11-06  2021     11   \n",
       "1             4    836584  11/18/2021          16  2021-11-18  2021     11   \n",
       "2             1    370195   1/24/2022           6  2022-01-24  2022      1   \n",
       "3             2    172582  10/30/2021           5  2021-10-30  2021     10   \n",
       "4             2   1006009  10/30/2021           5  2021-10-30  2021     10   \n",
       "..          ...       ...         ...         ...         ...   ...    ...   \n",
       "95            3     16936  11/17/2021           4  2021-11-17  2021     11   \n",
       "96            3   1060630    1/5/2022           2  2022-01-05  2022      1   \n",
       "97            1   1048975  11/18/2021           3  2021-11-18  2021     11   \n",
       "98            2     41830    2/9/2022           2  2022-02-09  2022      2   \n",
       "99            1     36898    1/5/2022           7  2022-01-05  2022      1   \n",
       "\n",
       "    week  is_weekend  \n",
       "0     44           1  \n",
       "1     46           0  \n",
       "2      4           0  \n",
       "3     43           1  \n",
       "4     43           1  \n",
       "..   ...         ...  \n",
       "95    46           0  \n",
       "96     1           0  \n",
       "97    46           0  \n",
       "98     6           0  \n",
       "99     1           0  \n",
       "\n",
       "[100 rows x 9 columns]"
      ]
     },
     "execution_count": 294,
     "metadata": {},
     "output_type": "execute_result"
    }
   ],
   "source": [
    "from datetime import datetime\n",
    "\n",
    "date_time_str = '14/02/22'\n",
    "\n",
    "date_time_obj = datetime.strptime(date_time_str, '%d/%m/%y')\n",
    "print(date_time_obj.strftime(\"%V\"))\n",
    "\n",
    "print (\"The type of the date is now\",  type(date_time_obj))\n",
    "print (\"The date is\", date_time_obj)\n",
    "\n",
    "df['date_format'] = pd.to_datetime(df['DateID'], format = '%m/%d/%Y',  errors = 'coerce')\n",
    "df['year']=df['date_format'].dt.year\n",
    "df['month']=df['date_format'].dt.month\n",
    "df['week']= df['date_format'].dt.weekofyear\n",
    "# df['day']=df['date_format'].dt.day\n",
    "\n",
    "\n",
    "day_names = df['date_format'].dt.day_name()\n",
    "df['is_weekend'] = day_names.apply(lambda x : 1 if x in ['Saturday','Sunday'] else 0)\n",
    "df.head()\n",
    "\n",
    "df['CategoryCode']=df.CategoryCode.str.split(pat='_',expand=True)[1]\n",
    "\n",
    "df.head(100)"
   ]
  },
  {
   "cell_type": "code",
   "execution_count": null,
   "metadata": {
    "id": "lIhE5hJ--CDj"
   },
   "outputs": [],
   "source": []
  },
  {
   "cell_type": "code",
   "execution_count": 295,
   "metadata": {
    "colab": {
     "base_uri": "https://localhost:8080/"
    },
    "id": "8toFAzzz7AGK",
    "outputId": "68906fe5-2fb9-4ebb-c09e-c9186d65c807",
    "scrolled": true
   },
   "outputs": [
    {
     "data": {
      "text/plain": [
       "ItemCode        0.297606\n",
       "CategoryCode    0.052466\n",
       "is_weekend      0.000053\n",
       "year            0.000000\n",
       "month           0.000000\n",
       "week            0.000000\n",
       "Name: MI Scores, dtype: float64"
      ]
     },
     "execution_count": 295,
     "metadata": {},
     "output_type": "execute_result"
    }
   ],
   "source": [
    "discrete_features = df.drop(columns=[\"DailySales\",\"DateID\",\"date_format\"]).dtypes == int\n",
    "\n",
    "from sklearn.feature_selection import mutual_info_regression\n",
    "\n",
    "def make_mi_scores(X, y, discrete_features):\n",
    "    mi_scores = mutual_info_regression(X, y, discrete_features=discrete_features)\n",
    "    mi_scores = pd.Series(mi_scores, name=\"MI Scores\", index=X.columns)\n",
    "    mi_scores = mi_scores.sort_values(ascending=False)\n",
    "    return mi_scores\n",
    "\n",
    "mi_scores = make_mi_scores(df.drop(columns=[\"DailySales\",\"DateID\",\"date_format\"]), df.DailySales, discrete_features)\n",
    "mi_scores.sort_values(ascending=False)"
   ]
  },
  {
   "cell_type": "code",
   "execution_count": 296,
   "metadata": {},
   "outputs": [
    {
     "data": {
      "image/png": "[encoded data removed]",
      "text/plain": [
       "<Figure size 800x500 with 1 Axes>"
      ]
     },
     "metadata": {
      "needs_background": "light"
     },
     "output_type": "display_data"
    }
   ],
   "source": [
    "import numpy as np\n",
    "\n",
    "import matplotlib.pyplot as plt\n",
    "def plot_mi_scores(scores):\n",
    "    scores = scores.sort_values(ascending=True)\n",
    "    width = np.arange(len(scores))\n",
    "    ticks = list(scores.index)\n",
    "    plt.barh(width, scores)\n",
    "    plt.yticks(width, ticks)\n",
    "    plt.title(\"Mutual Information Scores\")\n",
    "\n",
    "\n",
    "plt.figure(dpi=100, figsize=(8, 5))\n",
    "plot_mi_scores(mi_scores)"
   ]
  },
  {
   "cell_type": "code",
   "execution_count": 297,
   "metadata": {
    "colab": {
     "base_uri": "https://localhost:8080/",
     "height": 423
    },
    "id": "9lSJVlDYdHo6",
    "outputId": "8eb7e015-01d6-4a45-e6ff-e834cf285821",
    "scrolled": true
   },
   "outputs": [
    {
     "data": {
      "text/html": [
       "<div>\n",
       "<style scoped>\n",
       "    .dataframe tbody tr th:only-of-type {\n",
       "        vertical-align: middle;\n",
       "    }\n",
       "\n",
       "    .dataframe tbody tr th {\n",
       "        vertical-align: top;\n",
       "    }\n",
       "\n",
       "    .dataframe thead th {\n",
       "        text-align: right;\n",
       "    }\n",
       "</style>\n",
       "<table border=\"1\" class=\"dataframe\">\n",
       "  <thead>\n",
       "    <tr style=\"text-align: right;\">\n",
       "      <th></th>\n",
       "      <th>CategoryCode</th>\n",
       "      <th>ItemCode</th>\n",
       "      <th>Week</th>\n",
       "      <th>WeeklySales</th>\n",
       "    </tr>\n",
       "  </thead>\n",
       "  <tbody>\n",
       "    <tr>\n",
       "      <th>0</th>\n",
       "      <td>1</td>\n",
       "      <td>3418</td>\n",
       "      <td>15</td>\n",
       "      <td>83</td>\n",
       "    </tr>\n",
       "    <tr>\n",
       "      <th>1</th>\n",
       "      <td>1</td>\n",
       "      <td>3427</td>\n",
       "      <td>15</td>\n",
       "      <td>66</td>\n",
       "    </tr>\n",
       "    <tr>\n",
       "      <th>2</th>\n",
       "      <td>3</td>\n",
       "      <td>7666</td>\n",
       "      <td>15</td>\n",
       "      <td>15</td>\n",
       "    </tr>\n",
       "    <tr>\n",
       "      <th>3</th>\n",
       "      <td>2</td>\n",
       "      <td>9925</td>\n",
       "      <td>15</td>\n",
       "      <td>8</td>\n",
       "    </tr>\n",
       "    <tr>\n",
       "      <th>4</th>\n",
       "      <td>3</td>\n",
       "      <td>16936</td>\n",
       "      <td>15</td>\n",
       "      <td>74</td>\n",
       "    </tr>\n",
       "    <tr>\n",
       "      <th>...</th>\n",
       "      <td>...</td>\n",
       "      <td>...</td>\n",
       "      <td>...</td>\n",
       "      <td>...</td>\n",
       "    </tr>\n",
       "    <tr>\n",
       "      <th>3767</th>\n",
       "      <td>3</td>\n",
       "      <td>1101661</td>\n",
       "      <td>14</td>\n",
       "      <td>31</td>\n",
       "    </tr>\n",
       "    <tr>\n",
       "      <th>3768</th>\n",
       "      <td>2</td>\n",
       "      <td>1103056</td>\n",
       "      <td>14</td>\n",
       "      <td>14</td>\n",
       "    </tr>\n",
       "    <tr>\n",
       "      <th>3769</th>\n",
       "      <td>2</td>\n",
       "      <td>1105009</td>\n",
       "      <td>14</td>\n",
       "      <td>3</td>\n",
       "    </tr>\n",
       "    <tr>\n",
       "      <th>3770</th>\n",
       "      <td>2</td>\n",
       "      <td>1105018</td>\n",
       "      <td>14</td>\n",
       "      <td>15</td>\n",
       "    </tr>\n",
       "    <tr>\n",
       "      <th>3771</th>\n",
       "      <td>2</td>\n",
       "      <td>1105027</td>\n",
       "      <td>14</td>\n",
       "      <td>12</td>\n",
       "    </tr>\n",
       "  </tbody>\n",
       "</table>\n",
       "<p>3772 rows × 4 columns</p>\n",
       "</div>"
      ],
      "text/plain": [
       "     CategoryCode ItemCode Week WeeklySales\n",
       "0               1     3418   15          83\n",
       "1               1     3427   15          66\n",
       "2               3     7666   15          15\n",
       "3               2     9925   15           8\n",
       "4               3    16936   15          74\n",
       "...           ...      ...  ...         ...\n",
       "3767            3  1101661   14          31\n",
       "3768            2  1103056   14          14\n",
       "3769            2  1105009   14           3\n",
       "3770            2  1105018   14          15\n",
       "3771            2  1105027   14          12\n",
       "\n",
       "[3772 rows x 4 columns]"
      ]
     },
     "execution_count": 297,
     "metadata": {},
     "output_type": "execute_result"
    }
   ],
   "source": [
    "week_df = pd.DataFrame(columns = ['CategoryCode', 'ItemCode', 'Week','WeeklySales'])\n",
    "\n",
    "gkk = df.groupby(['week','ItemCode'])\n",
    "  \n",
    "# Print the first value in each group\n",
    "gkk.first()\n",
    "\n",
    "for i,j in gkk:\n",
    "  # print(i,j)\n",
    "  sum = 0\n",
    "  dict ={}\n",
    "  for k in range(j.shape[0]):\n",
    "    sum = sum + (int((j.iloc[[k]])['DailySales']))\n",
    "  if  39 <= int((j.iloc[[k]])['week']) <=52:\n",
    "    week = int((j.iloc[[k]])['week']) -38\n",
    "  else:\n",
    "    week = 14 + int((j.iloc[[k]])['week'])\n",
    "  dict = {'CategoryCode': int((j.iloc[[k]])['CategoryCode']),'ItemCode':int((j.iloc[[k]])['ItemCode']) ,'Week':week,'WeeklySales' : sum}\n",
    "  week_df=week_df.append(dict,ignore_index=True)\n",
    "\n",
    "week_df"
   ]
  },
  {
   "cell_type": "code",
   "execution_count": 298,
   "metadata": {
    "scrolled": true
   },
   "outputs": [
    {
     "data": {
      "text/plain": [
       "ItemCode        0.236135\n",
       "CategoryCode    0.056286\n",
       "Week            0.010073\n",
       "Name: MI Scores, dtype: float64"
      ]
     },
     "execution_count": 298,
     "metadata": {},
     "output_type": "execute_result"
    }
   ],
   "source": [
    "discrete_features = week_df.drop(columns=[\"WeeklySales\"]).dtypes == int\n",
    "\n",
    "from sklearn.feature_selection import mutual_info_regression\n",
    "\n",
    "def make_mi_scores(X, y, discrete_features):\n",
    "    mi_scores = mutual_info_regression(X, y, discrete_features=discrete_features)\n",
    "    mi_scores = pd.Series(mi_scores, name=\"MI Scores\", index=X.columns)\n",
    "    mi_scores = mi_scores.sort_values(ascending=False)\n",
    "    return mi_scores\n",
    "\n",
    "mi_scores = make_mi_scores(week_df.drop(columns=[\"WeeklySales\"]), week_df.WeeklySales, discrete_features)\n",
    "mi_scores.sort_values(ascending=False)"
   ]
  },
  {
   "cell_type": "code",
   "execution_count": 299,
   "metadata": {},
   "outputs": [
    {
     "name": "stderr",
     "output_type": "stream",
     "text": [
      "No handles with labels found to put in legend.\n"
     ]
    },
    {
     "data": {
      "image/png": "[encoded data removed]",
      "text/plain": [
       "<Figure size 432x288 with 1 Axes>"
      ]
     },
     "metadata": {
      "needs_background": "light"
     },
     "output_type": "display_data"
    }
   ],
   "source": [
    "import matplotlib.pyplot as plt\n",
    "\n",
    " \n",
    "# plotting points as a scatter plot\n",
    "plt.scatter(week_df.Week, week_df.WeeklySales, color= \"green\",\n",
    "            marker= \".\", s=20)\n",
    "\n",
    "# x-axis label\n",
    "plt.xlim(1, 20)\n",
    "plt.xlabel('week')\n",
    "# frequency label\n",
    "plt.ylabel('Sales')\n",
    "# plot title\n",
    "plt.title('WeeklySales for every week!')\n",
    "\n",
    "# Plot the average line\n",
    "plt.axhline(y=week_df.WeeklySales.mean(), color='r', linestyle='-.', linewidth=3)\n",
    "\n",
    "# showing legend\n",
    "plt.legend()\n",
    "\n",
    "# function to show the plot\n",
    "plt.show()"
   ]
  },
  {
   "cell_type": "code",
   "execution_count": 300,
   "metadata": {
    "id": "7fJ8T3pOQnNp"
   },
   "outputs": [],
   "source": [
    "X = week_df.drop(columns=[\"WeeklySales\"])\n",
    "# X=df.tot_week\n",
    "y=week_df.WeeklySales\n",
    "y=y.astype('int')"
   ]
  },
  {
   "cell_type": "code",
   "execution_count": 301,
   "metadata": {
    "colab": {
     "base_uri": "https://localhost:8080/",
     "height": 423
    },
    "id": "6zaocNB1cbXY",
    "outputId": "e30f700e-093c-40d1-d744-91a0544cce78"
   },
   "outputs": [
    {
     "data": {
      "text/html": [
       "<div>\n",
       "<style scoped>\n",
       "    .dataframe tbody tr th:only-of-type {\n",
       "        vertical-align: middle;\n",
       "    }\n",
       "\n",
       "    .dataframe tbody tr th {\n",
       "        vertical-align: top;\n",
       "    }\n",
       "\n",
       "    .dataframe thead th {\n",
       "        text-align: right;\n",
       "    }\n",
       "</style>\n",
       "<table border=\"1\" class=\"dataframe\">\n",
       "  <thead>\n",
       "    <tr style=\"text-align: right;\">\n",
       "      <th></th>\n",
       "      <th>CategoryCode</th>\n",
       "      <th>ItemCode</th>\n",
       "      <th>Week</th>\n",
       "      <th>WeeklySales</th>\n",
       "    </tr>\n",
       "  </thead>\n",
       "  <tbody>\n",
       "    <tr>\n",
       "      <th>0</th>\n",
       "      <td>2</td>\n",
       "      <td>1044502</td>\n",
       "      <td>21</td>\n",
       "      <td>11</td>\n",
       "    </tr>\n",
       "    <tr>\n",
       "      <th>1</th>\n",
       "      <td>2</td>\n",
       "      <td>1105009</td>\n",
       "      <td>21</td>\n",
       "      <td>11</td>\n",
       "    </tr>\n",
       "    <tr>\n",
       "      <th>2</th>\n",
       "      <td>2</td>\n",
       "      <td>913561</td>\n",
       "      <td>24</td>\n",
       "      <td>5</td>\n",
       "    </tr>\n",
       "    <tr>\n",
       "      <th>3</th>\n",
       "      <td>1</td>\n",
       "      <td>1048975</td>\n",
       "      <td>24</td>\n",
       "      <td>30</td>\n",
       "    </tr>\n",
       "    <tr>\n",
       "      <th>4</th>\n",
       "      <td>1</td>\n",
       "      <td>17287</td>\n",
       "      <td>22</td>\n",
       "      <td>60</td>\n",
       "    </tr>\n",
       "    <tr>\n",
       "      <th>...</th>\n",
       "      <td>...</td>\n",
       "      <td>...</td>\n",
       "      <td>...</td>\n",
       "      <td>...</td>\n",
       "    </tr>\n",
       "    <tr>\n",
       "      <th>365</th>\n",
       "      <td>2</td>\n",
       "      <td>124954</td>\n",
       "      <td>22</td>\n",
       "      <td>43</td>\n",
       "    </tr>\n",
       "    <tr>\n",
       "      <th>366</th>\n",
       "      <td>2</td>\n",
       "      <td>40759</td>\n",
       "      <td>21</td>\n",
       "      <td>48</td>\n",
       "    </tr>\n",
       "    <tr>\n",
       "      <th>367</th>\n",
       "      <td>1</td>\n",
       "      <td>1090303</td>\n",
       "      <td>21</td>\n",
       "      <td>19</td>\n",
       "    </tr>\n",
       "    <tr>\n",
       "      <th>368</th>\n",
       "      <td>2</td>\n",
       "      <td>1090276</td>\n",
       "      <td>23</td>\n",
       "      <td>6</td>\n",
       "    </tr>\n",
       "    <tr>\n",
       "      <th>369</th>\n",
       "      <td>1</td>\n",
       "      <td>3418</td>\n",
       "      <td>24</td>\n",
       "      <td>69</td>\n",
       "    </tr>\n",
       "  </tbody>\n",
       "</table>\n",
       "<p>370 rows × 4 columns</p>\n",
       "</div>"
      ],
      "text/plain": [
       "    CategoryCode  ItemCode  Week  WeeklySales\n",
       "0              2   1044502    21           11\n",
       "1              2   1105009    21           11\n",
       "2              2    913561    24            5\n",
       "3              1   1048975    24           30\n",
       "4              1     17287    22           60\n",
       "..           ...       ...   ...          ...\n",
       "365            2    124954    22           43\n",
       "366            2     40759    21           48\n",
       "367            1   1090303    21           19\n",
       "368            2   1090276    23            6\n",
       "369            1      3418    24           69\n",
       "\n",
       "[370 rows x 4 columns]"
      ]
     },
     "execution_count": 301,
     "metadata": {},
     "output_type": "execute_result"
    }
   ],
   "source": [
    "validation_url = \"https://raw.githubusercontent.com/abinesht/datastorm/main/validation_data.csv\"\n",
    "validation_df = pd.read_csv(validation_url)\n",
    "\n",
    "validation_df['CategoryCode']=validation_df.CategoryCode.str.split(pat='_',expand=True)[1]\n",
    "\n",
    "# for i in range(validation_df.shape[0]):\n",
    "#   print(str((validation_df.iloc[[i]])['Week']))\n",
    "#   if (str((validation_df.iloc[[i]])['Week']) == 'w1'):\n",
    "#     print(\"yes\")\n",
    "#     break\n",
    "\n",
    "\n",
    "for index, row in validation_df.iterrows():\n",
    "  if (row['Week'] == 'w1'):\n",
    "    row['Week'] = 21\n",
    "\n",
    "  elif (row['Week'] == 'w2'):\n",
    "    row['Week'] = 22\n",
    "\n",
    "  elif (row['Week'] == 'w3'):\n",
    "    row['Week'] = 23\n",
    "\n",
    "  elif (row['Week'] == 'w4'):\n",
    "    row['Week'] = 24\n",
    "\n",
    "\n",
    "\n",
    "validation_df.replace(\"w1\", 21,inplace=True)\n",
    "validation_df.replace(\"w2\", 22,inplace=True)\n",
    "validation_df.replace(\"w3\", 23,inplace=True)\n",
    "validation_df.replace(\"w4\", 24,inplace=True)\n",
    "validation_df"
   ]
  },
  {
   "cell_type": "code",
   "execution_count": null,
   "metadata": {
    "id": "k09eaLve-NWC"
   },
   "outputs": [],
   "source": []
  },
  {
   "cell_type": "code",
   "execution_count": 302,
   "metadata": {
    "id": "b1gynJIyQ1kE"
   },
   "outputs": [],
   "source": [
    "from sklearn.ensemble import RandomForestClassifier\n",
    "from sklearn.model_selection import cross_val_score\n",
    "\n",
    "# Initialze the estimators\n",
    "clf1 = RandomForestClassifier(max_depth=13, random_state=42, n_estimators= 50)\n",
    "clf2 = RandomForestClassifier()"
   ]
  },
  {
   "cell_type": "code",
   "execution_count": 303,
   "metadata": {
    "colab": {
     "base_uri": "https://localhost:8080/"
    },
    "id": "ygGj3-u8QZst",
    "outputId": "b08bcb32-39de-4188-e195-5e4a8e81b2fd"
   },
   "outputs": [
    {
     "data": {
      "text/plain": [
       "1.0426734682333356"
      ]
     },
     "execution_count": 303,
     "metadata": {},
     "output_type": "execute_result"
    }
   ],
   "source": [
    "from sklearn.metrics import mean_absolute_percentage_error\n",
    "from sklearn.model_selection import train_test_split\n",
    "\n",
    "\n",
    "# week_df.sort_values(by=['Week'])\n",
    "# X_train, X_test, y_train , y_test = train_test_split(X,y , test_size = 0.2, random_state=25)\n",
    "\n",
    "X_train = week_df.drop(columns=['WeeklySales'])\n",
    "y_train = week_df.WeeklySales.astype('int')\n",
    "\n",
    "X_test = validation_df.drop(columns=['WeeklySales'])\n",
    "y_test = validation_df.WeeklySales.astype('int')\n",
    "\n",
    "\n",
    "clf1.fit(X_train,y_train)\n",
    "\n",
    "y_pred = clf1.predict(X_test)\n",
    "\n",
    "RF_score = mean_absolute_percentage_error(y_test, y_pred)\n",
    "RF_score"
   ]
  },
  {
   "cell_type": "code",
   "execution_count": 304,
   "metadata": {
    "colab": {
     "base_uri": "https://localhost:8080/"
    },
    "id": "w0P1wNOZaPzT",
    "outputId": "7c559ef3-c472-49d5-c5a7-5dcf886008f9"
   },
   "outputs": [
    {
     "data": {
      "text/plain": [
       "0.599360194050096"
      ]
     },
     "execution_count": 304,
     "metadata": {},
     "output_type": "execute_result"
    }
   ],
   "source": [
    "from sklearn import datasets,linear_model\n",
    "from sklearn.tree import DecisionTreeClassifier\n",
    "\n",
    "DT=DecisionTreeClassifier(max_depth=None,min_samples_split=10)\n",
    "\n",
    "\n",
    "DT.fit(X_train,y_train)\n",
    "\n",
    "y_pred = DT.predict(X_test)\n",
    "\n",
    "DT_score = mean_absolute_percentage_error(y_test, y_pred)\n",
    "DT_score"
   ]
  },
  {
   "cell_type": "code",
   "execution_count": 317,
   "metadata": {
    "colab": {
     "base_uri": "https://localhost:8080/"
    },
    "id": "1RICXlAGbtb-",
    "outputId": "7ce0e58f-b00e-4c87-9dd0-cb1b9cbf80a6"
   },
   "outputs": [
    {
     "data": {
      "text/plain": [
       "0.582407945785739"
      ]
     },
     "execution_count": 317,
     "metadata": {},
     "output_type": "execute_result"
    }
   ],
   "source": [
    "from sklearn.neighbors import KNeighborsClassifier\n",
    "\n",
    "# gnb=GaussianNB()\n",
    "# mnb=MultinomialNB()\n",
    "knn=KNeighborsClassifier()\n",
    "\n",
    "knn.fit(X_train,y_train)\n",
    "\n",
    "y_pred = knn.predict(X_test)\n",
    "\n",
    "KNN_score = mean_absolute_percentage_error(y_test, y_pred)\n",
    "KNN_score"
   ]
  },
  {
   "cell_type": "code",
   "execution_count": 307,
   "metadata": {},
   "outputs": [
    {
     "name": "stdout",
     "output_type": "stream",
     "text": [
      "0.719910726453372\n",
      "0.7250876147220497\n",
      "5.393975383809354\n"
     ]
    },
    {
     "name": "stderr",
     "output_type": "stream",
     "text": [
      "C:\\Users\\Abi\\anaconda3\\lib\\site-packages\\sklearn\\linear_model\\_logistic.py:763: ConvergenceWarning: lbfgs failed to converge (status=1):\n",
      "STOP: TOTAL NO. of ITERATIONS REACHED LIMIT.\n",
      "\n",
      "Increase the number of iterations (max_iter) or scale the data as shown in:\n",
      "    https://scikit-learn.org/stable/modules/preprocessing.html\n",
      "Please also refer to the documentation for alternative solver options:\n",
      "    https://scikit-learn.org/stable/modules/linear_model.html#logistic-regression\n",
      "  n_iter_i = _check_optimize_result(\n"
     ]
    }
   ],
   "source": [
    "from sklearn.linear_model import LogisticRegression\n",
    "from sklearn.svm import SVC\n",
    "from sklearn.ensemble import GradientBoostingClassifier\n",
    "from sklearn.naive_bayes import MultinomialNB\n",
    "\n",
    "\n",
    "svc = SVC(probability=True, random_state=42)\n",
    "lr = LogisticRegression(random_state=42)\n",
    "mnb = MultinomialNB()\n",
    "gb = GradientBoostingClassifier(random_state=42)\n",
    "\n",
    "svc.fit(X_train,y_train)\n",
    "y_pred = svc.predict(X_test)\n",
    "SVC_score = mean_absolute_percentage_error(y_test, y_pred)\n",
    "print(SVC_score)\n",
    "\n",
    "lr.fit(X_train,y_train)\n",
    "y_pred = lr.predict(X_test)\n",
    "LR_score = mean_absolute_percentage_error(y_test, y_pred)\n",
    "print(LR_score)\n",
    "\n",
    "mnb.fit(X_train,y_train)\n",
    "y_pred = mnb.predict(X_test)\n",
    "MNB_score = mean_absolute_percentage_error(y_test, y_pred)\n",
    "print(MNB_score)\n",
    "\n",
    "# gb.fit(X_train,y_train)\n",
    "# y_pred = gb.predict(X_test)\n",
    "# GB_score = mean_absolute_percentage_error(y_test, y_pred)\n",
    "# print(GB_score)"
   ]
  },
  {
   "cell_type": "code",
   "execution_count": 330,
   "metadata": {},
   "outputs": [],
   "source": [
    "def show_plot(score_dict,color):\n",
    "    models = list(score_dict.keys())\n",
    "    scores = list(score_dict.values())\n",
    "\n",
    "    fig = plt.figure(figsize = (10, 5))\n",
    "\n",
    "    # creating the bar plot\n",
    "    plt.bar(models, scores, color =color, width = 0.4)\n",
    "\n",
    "    plt.xlabel(\"Models\")\n",
    "    plt.ylabel(\"Scores\")\n",
    "    plt.title(\"MAPE for different models\")\n",
    "    plt.show()"
   ]
  },
  {
   "cell_type": "code",
   "execution_count": 331,
   "metadata": {},
   "outputs": [
    {
     "data": {
      "image/png": "[encoded data removed]",
      "text/plain": [
       "<Figure size 720x360 with 1 Axes>"
      ]
     },
     "metadata": {
      "needs_background": "light"
     },
     "output_type": "display_data"
    }
   ],
   "source": [
    "score_dict={}\n",
    "\n",
    "score_dict['SVC']=SVC_score\n",
    "score_dict['LR']=LR_score\n",
    "# score_dict['GB']=GB_score\n",
    "score_dict['MNB']=MNB_score\n",
    "score_dict['KNN']=KNN_score\n",
    "score_dict['DT']=DT_score\n",
    "score_dict['RF']=RF_score\n",
    "\n",
    "show_plot(score_dict,\"red\")"
   ]
  },
  {
   "cell_type": "code",
   "execution_count": 315,
   "metadata": {
    "colab": {
     "base_uri": "https://localhost:8080/"
    },
    "id": "N6G4ndp8rbQs",
    "outputId": "8a4724b2-5072-473f-ea63-2f089352045e"
   },
   "outputs": [],
   "source": [
    "from sklearn.model_selection import GridSearchCV\n",
    "from sklearn.neighbors import KNeighborsClassifier\n",
    "from sklearn.pipeline import Pipeline\n",
    "from sklearn.preprocessing import MinMaxScaler\n",
    "\n",
    "# knn_pipe = Pipeline([('mms', MinMaxScaler()),\n",
    "#                      ('knn', KNeighborsClassifier())])\n",
    "\n",
    "# params = [{'knn__n_neighbors': [1 ,3 ,10, 20],\n",
    "#          'knn__weights': ['uniform', 'distance'],\n",
    "#          'knn__leaf_size': [5,10,15, 20,30,40]}]\n",
    "# gs_knn = GridSearchCV(knn_pipe,\n",
    "#                       param_grid=params,\n",
    "#                       cv=5)\n",
    "# gs_knn.fit(X_train, y_train)\n",
    "\n",
    "# gs_knn.best_params_\n",
    "\n"
   ]
  },
  {
   "cell_type": "code",
   "execution_count": null,
   "metadata": {
    "colab": {
     "base_uri": "https://localhost:8080/"
    },
    "id": "TQEGglcktIOd",
    "outputId": "456a19c9-a5c7-4cf1-d925-8cd8926e0bb2"
   },
   "outputs": [],
   "source": [
    "import sklearn\n",
    "\n",
    "sklearn.metrics.SCORERS.keys()"
   ]
  },
  {
   "cell_type": "code",
   "execution_count": 314,
   "metadata": {
    "colab": {
     "base_uri": "https://localhost:8080/"
    },
    "id": "LF9VsulNsB8P",
    "outputId": "14884646-120a-4209-b260-712186bc5ce3"
   },
   "outputs": [
    {
     "name": "stderr",
     "output_type": "stream",
     "text": [
      "C:\\Users\\Abi\\anaconda3\\lib\\site-packages\\sklearn\\model_selection\\_split.py:666: UserWarning: The least populated class in y has only 1 members, which is less than n_splits=5.\n",
      "  warnings.warn((\"The least populated class in y has only %d\"\n"
     ]
    },
    {
     "data": {
      "text/plain": [
       "{'leaf_size': 10, 'n_neighbors': 3}"
      ]
     },
     "execution_count": 314,
     "metadata": {},
     "output_type": "execute_result"
    }
   ],
   "source": [
    "param_grid = {'n_neighbors': [1 ,3 ,4,7,10, 20],'leaf_size': [5,10,15, 20,30,40]}\n",
    "\n",
    "knn2 = GridSearchCV(KNeighborsClassifier(), param_grid, cv=5, scoring='neg_mean_absolute_percentage_error')\n",
    "knn2.fit(X_train, y_train)\n",
    "\n",
    "knn2.best_params_\n"
   ]
  },
  {
   "cell_type": "code",
   "execution_count": 318,
   "metadata": {
    "colab": {
     "base_uri": "https://localhost:8080/"
    },
    "id": "mpY_aljFv4N3",
    "outputId": "f28c4cc4-552c-415b-d6c0-786265fd7269"
   },
   "outputs": [
    {
     "data": {
      "text/plain": [
       "0.5547904047675736"
      ]
     },
     "execution_count": 318,
     "metadata": {},
     "output_type": "execute_result"
    }
   ],
   "source": [
    "knn2 = KNeighborsClassifier(n_neighbors=3)\n",
    "knn2.fit(X_train,y_train)\n",
    "\n",
    "y_pred = knn2.predict(X_test)\n",
    "\n",
    "KNN_new = mean_absolute_percentage_error(y_test, y_pred)\n",
    "KNN_new"
   ]
  },
  {
   "cell_type": "code",
   "execution_count": 332,
   "metadata": {},
   "outputs": [
    {
     "data": {
      "image/png": "[encoded data removed]",
      "text/plain": [
       "<Figure size 720x360 with 1 Axes>"
      ]
     },
     "metadata": {
      "needs_background": "light"
     },
     "output_type": "display_data"
    }
   ],
   "source": [
    "knn_scores = {\"KNN_with_no_parameter\":KNN_score, \"KNN_after_hyperparameter_tuning\":KNN_new}\n",
    "\n",
    "show_plot(knn_scores,\"maroon\")"
   ]
  },
  {
   "cell_type": "markdown",
   "metadata": {
    "id": "r78T6BUFwe1n"
   },
   "source": [
    "**## Ensemble**"
   ]
  },
  {
   "cell_type": "code",
   "execution_count": null,
   "metadata": {
    "id": "giPFx0stl0dV"
   },
   "outputs": [],
   "source": [
    "estimator = [] \n",
    "estimator.append(('DT',DecisionTreeClassifier())) \n",
    "estimator.append(('RF',RandomForestClassifier(max_depth=20, random_state=42, n_estimators= 1000))) \n",
    "estimator.append(('KNN',KNeighborsClassifier(algorithm='auto', leaf_size=30, metric='minkowski',metric_params=None, n_jobs=1, p=2, weights='uniform',n_neighbors=2))) "
   ]
  },
  {
   "cell_type": "code",
   "execution_count": 323,
   "metadata": {
    "id": "60dkGjLrm21a"
   },
   "outputs": [
    {
     "name": "stdout",
     "output_type": "stream",
     "text": [
      "hard_voting_score 0.6247073753374861\n",
      "soft_voting_score 0.6214961763336041\n"
     ]
    }
   ],
   "source": [
    "from sklearn.ensemble import VotingClassifier\n",
    "\n",
    "#hard voting\n",
    "hard_voting = VotingClassifier(estimators = estimator, voting ='hard') \n",
    "\n",
    "hard_voting.fit(X_train,y_train)\n",
    "y_pred = hard_voting.predict(X_test)\n",
    "\n",
    "hard_voting_score = mean_absolute_percentage_error(y_test, y_pred)\n",
    "print(\"hard_voting_score\",hard_voting_score)\n",
    "\n",
    "soft_voting = VotingClassifier(estimators = estimator, voting ='soft') \n",
    "soft_voting.fit(X_train,y_train)\n",
    "y_pred = soft_voting.predict(X_test)\n",
    "\n",
    "soft_voting_score = mean_absolute_percentage_error(y_test, y_pred)\n",
    "print(\"soft_voting_score\",soft_voting_score)"
   ]
  },
  {
   "cell_type": "code",
   "execution_count": 325,
   "metadata": {
    "id": "P9UBKHxTjv7r"
   },
   "outputs": [
    {
     "name": "stderr",
     "output_type": "stream",
     "text": [
      "C:\\Users\\Abi\\anaconda3\\lib\\site-packages\\sklearn\\model_selection\\_split.py:666: UserWarning: The least populated class in y has only 1 members, which is less than n_splits=5.\n",
      "  warnings.warn((\"The least populated class in y has only %d\"\n",
      "C:\\Users\\Abi\\anaconda3\\lib\\site-packages\\sklearn\\model_selection\\_validation.py:999: RuntimeWarning: Number of classes in training fold (233) does not match total number of classes (258). Results may not be appropriate for your use case. To fix this, use a cross-validation technique resulting in properly stratified folds\n",
      "  warnings.warn('Number of classes in training fold ({}) does '\n",
      "C:\\Users\\Abi\\anaconda3\\lib\\site-packages\\sklearn\\model_selection\\_validation.py:999: RuntimeWarning: Number of classes in training fold (236) does not match total number of classes (258). Results may not be appropriate for your use case. To fix this, use a cross-validation technique resulting in properly stratified folds\n",
      "  warnings.warn('Number of classes in training fold ({}) does '\n",
      "C:\\Users\\Abi\\anaconda3\\lib\\site-packages\\sklearn\\model_selection\\_validation.py:999: RuntimeWarning: Number of classes in training fold (239) does not match total number of classes (258). Results may not be appropriate for your use case. To fix this, use a cross-validation technique resulting in properly stratified folds\n",
      "  warnings.warn('Number of classes in training fold ({}) does '\n",
      "C:\\Users\\Abi\\anaconda3\\lib\\site-packages\\sklearn\\model_selection\\_validation.py:999: RuntimeWarning: Number of classes in training fold (238) does not match total number of classes (258). Results may not be appropriate for your use case. To fix this, use a cross-validation technique resulting in properly stratified folds\n",
      "  warnings.warn('Number of classes in training fold ({}) does '\n",
      "C:\\Users\\Abi\\anaconda3\\lib\\site-packages\\sklearn\\model_selection\\_validation.py:999: RuntimeWarning: Number of classes in training fold (238) does not match total number of classes (258). Results may not be appropriate for your use case. To fix this, use a cross-validation technique resulting in properly stratified folds\n",
      "  warnings.warn('Number of classes in training fold ({}) does '\n",
      "C:\\Users\\Abi\\anaconda3\\lib\\site-packages\\sklearn\\model_selection\\_split.py:666: UserWarning: The least populated class in y has only 1 members, which is less than n_splits=5.\n",
      "  warnings.warn((\"The least populated class in y has only %d\"\n",
      "C:\\Users\\Abi\\anaconda3\\lib\\site-packages\\sklearn\\model_selection\\_validation.py:999: RuntimeWarning: Number of classes in training fold (233) does not match total number of classes (258). Results may not be appropriate for your use case. To fix this, use a cross-validation technique resulting in properly stratified folds\n",
      "  warnings.warn('Number of classes in training fold ({}) does '\n",
      "C:\\Users\\Abi\\anaconda3\\lib\\site-packages\\sklearn\\model_selection\\_validation.py:999: RuntimeWarning: Number of classes in training fold (236) does not match total number of classes (258). Results may not be appropriate for your use case. To fix this, use a cross-validation technique resulting in properly stratified folds\n",
      "  warnings.warn('Number of classes in training fold ({}) does '\n",
      "C:\\Users\\Abi\\anaconda3\\lib\\site-packages\\sklearn\\model_selection\\_validation.py:999: RuntimeWarning: Number of classes in training fold (239) does not match total number of classes (258). Results may not be appropriate for your use case. To fix this, use a cross-validation technique resulting in properly stratified folds\n",
      "  warnings.warn('Number of classes in training fold ({}) does '\n",
      "C:\\Users\\Abi\\anaconda3\\lib\\site-packages\\sklearn\\model_selection\\_validation.py:999: RuntimeWarning: Number of classes in training fold (238) does not match total number of classes (258). Results may not be appropriate for your use case. To fix this, use a cross-validation technique resulting in properly stratified folds\n",
      "  warnings.warn('Number of classes in training fold ({}) does '\n",
      "C:\\Users\\Abi\\anaconda3\\lib\\site-packages\\sklearn\\model_selection\\_validation.py:999: RuntimeWarning: Number of classes in training fold (238) does not match total number of classes (258). Results may not be appropriate for your use case. To fix this, use a cross-validation technique resulting in properly stratified folds\n",
      "  warnings.warn('Number of classes in training fold ({}) does '\n",
      "C:\\Users\\Abi\\anaconda3\\lib\\site-packages\\sklearn\\model_selection\\_split.py:666: UserWarning: The least populated class in y has only 1 members, which is less than n_splits=5.\n",
      "  warnings.warn((\"The least populated class in y has only %d\"\n",
      "C:\\Users\\Abi\\anaconda3\\lib\\site-packages\\sklearn\\model_selection\\_validation.py:999: RuntimeWarning: Number of classes in training fold (233) does not match total number of classes (258). Results may not be appropriate for your use case. To fix this, use a cross-validation technique resulting in properly stratified folds\n",
      "  warnings.warn('Number of classes in training fold ({}) does '\n",
      "C:\\Users\\Abi\\anaconda3\\lib\\site-packages\\sklearn\\model_selection\\_validation.py:999: RuntimeWarning: Number of classes in training fold (236) does not match total number of classes (258). Results may not be appropriate for your use case. To fix this, use a cross-validation technique resulting in properly stratified folds\n",
      "  warnings.warn('Number of classes in training fold ({}) does '\n",
      "C:\\Users\\Abi\\anaconda3\\lib\\site-packages\\sklearn\\model_selection\\_validation.py:999: RuntimeWarning: Number of classes in training fold (239) does not match total number of classes (258). Results may not be appropriate for your use case. To fix this, use a cross-validation technique resulting in properly stratified folds\n",
      "  warnings.warn('Number of classes in training fold ({}) does '\n",
      "C:\\Users\\Abi\\anaconda3\\lib\\site-packages\\sklearn\\model_selection\\_validation.py:999: RuntimeWarning: Number of classes in training fold (238) does not match total number of classes (258). Results may not be appropriate for your use case. To fix this, use a cross-validation technique resulting in properly stratified folds\n",
      "  warnings.warn('Number of classes in training fold ({}) does '\n",
      "C:\\Users\\Abi\\anaconda3\\lib\\site-packages\\sklearn\\model_selection\\_validation.py:999: RuntimeWarning: Number of classes in training fold (238) does not match total number of classes (258). Results may not be appropriate for your use case. To fix this, use a cross-validation technique resulting in properly stratified folds\n",
      "  warnings.warn('Number of classes in training fold ({}) does '\n"
     ]
    },
    {
     "name": "stdout",
     "output_type": "stream",
     "text": [
      "stack_model_score 0.668490426401391\n"
     ]
    }
   ],
   "source": [
    "from sklearn.ensemble import StackingClassifier\n",
    "\n",
    "stack_model = StackingClassifier(estimators=estimator)\n",
    "\n",
    "stack_model.fit(X_train,y_train)\n",
    "y_pred = stack_model.predict(X_test)\n",
    "\n",
    "stack_model_score = mean_absolute_percentage_error(y_test, y_pred)\n",
    "print(\"stack_model_score\",stack_model_score)"
   ]
  },
  {
   "cell_type": "code",
   "execution_count": 326,
   "metadata": {
    "colab": {
     "base_uri": "https://localhost:8080/",
     "height": 346
    },
    "id": "3GJ_7Kglw4_m",
    "outputId": "469c461f-c079-445b-a5b2-2d8a21226b40"
   },
   "outputs": [
    {
     "name": "stdout",
     "output_type": "stream",
     "text": [
      "bagg_model_score 0.6210822728877186\n"
     ]
    }
   ],
   "source": [
    "from sklearn.ensemble import BaggingClassifier\n",
    "\n",
    "bagg_model = BaggingClassifier(base_estimator = knn2, n_estimators = 25, random_state = 42)\n",
    "\n",
    "bagg_model.fit(X_train,y_train)\n",
    "\n",
    "y_pred = bagg_model.predict(X_test)\n",
    "\n",
    "bagg_model_score = mean_absolute_percentage_error(y_test, y_pred)\n",
    "print(\"bagg_model_score\",bagg_model_score)"
   ]
  },
  {
   "cell_type": "code",
   "execution_count": 333,
   "metadata": {},
   "outputs": [
    {
     "data": {
      "image/png": "[encoded data removed]",
      "text/plain": [
       "<Figure size 720x360 with 1 Axes>"
      ]
     },
     "metadata": {
      "needs_background": "light"
     },
     "output_type": "display_data"
    }
   ],
   "source": [
    "ensemble_scores = {\"Soft voting\":soft_voting_score, \"Hard voting\": hard_voting_score, \"Stacking\" : stack_model_score, \"Bagging\" : bagg_model_score}\n",
    "\n",
    "show_plot(ensemble_scores,\"green\")"
   ]
  },
  {
   "cell_type": "code",
   "execution_count": 334,
   "metadata": {
    "colab": {
     "base_uri": "https://localhost:8080/"
    },
    "id": "Zwb8R7r0QeZS",
    "outputId": "8f8fbd45-1b0f-4e2e-8466-e69651096517",
    "scrolled": true
   },
   "outputs": [
    {
     "data": {
      "image/png": "[encoded data removed]",
      "text/plain": [
       "<Figure size 800x500 with 1 Axes>"
      ]
     },
     "metadata": {
      "needs_background": "light"
     },
     "output_type": "display_data"
    }
   ],
   "source": [
    "discrete_features = X.dtypes == int\n",
    "\n",
    "from sklearn.feature_selection import mutual_info_regression\n",
    "\n",
    "def make_mi_scores(X, y, discrete_features):\n",
    "    mi_scores = mutual_info_regression(X, y, discrete_features=discrete_features)\n",
    "    mi_scores = pd.Series(mi_scores, name=\"MI Scores\", index=X.columns)\n",
    "    mi_scores = mi_scores.sort_values(ascending=False)\n",
    "    return mi_scores\n",
    "\n",
    "mi_scores = make_mi_scores(X, y, discrete_features)\n",
    "mi_scores.sort_values(ascending=False)\n",
    "\n",
    "plt.figure(dpi=100, figsize=(8, 5))\n",
    "plot_mi_scores(mi_scores)"
   ]
  },
  {
   "cell_type": "code",
   "execution_count": 336,
   "metadata": {
    "id": "n5OO5z3I1yqW"
   },
   "outputs": [],
   "source": [
    "test_url = \"https://raw.githubusercontent.com/abinesht/datastorm/main/test_data.csv\"\n",
    "\n",
    "test_df = pd.read_csv(test_url)\n",
    "\n",
    "test_df.replace(\"w1\", 21,inplace=True)\n",
    "test_df.replace(\"w2\", 22,inplace=True)\n",
    "test_df.replace(\"w3\", 23,inplace=True)\n",
    "test_df.replace(\"w4\", 24,inplace=True)\n",
    "\n",
    "test_df['CategoryCode']=test_df.CategoryCode.str.split(pat='_',expand=True)[1]"
   ]
  },
  {
   "cell_type": "code",
   "execution_count": 337,
   "metadata": {
    "colab": {
     "base_uri": "https://localhost:8080/",
     "height": 423
    },
    "id": "dhlMT5qQ24Lt",
    "outputId": "e1f10ea8-ab62-4539-e14d-0052804970e2"
   },
   "outputs": [
    {
     "data": {
      "text/html": [
       "<div>\n",
       "<style scoped>\n",
       "    .dataframe tbody tr th:only-of-type {\n",
       "        vertical-align: middle;\n",
       "    }\n",
       "\n",
       "    .dataframe tbody tr th {\n",
       "        vertical-align: top;\n",
       "    }\n",
       "\n",
       "    .dataframe thead th {\n",
       "        text-align: right;\n",
       "    }\n",
       "</style>\n",
       "<table border=\"1\" class=\"dataframe\">\n",
       "  <thead>\n",
       "    <tr style=\"text-align: right;\">\n",
       "      <th></th>\n",
       "      <th>CategoryCode</th>\n",
       "      <th>ItemCode</th>\n",
       "      <th>Week</th>\n",
       "      <th>PredictedSales</th>\n",
       "    </tr>\n",
       "  </thead>\n",
       "  <tbody>\n",
       "    <tr>\n",
       "      <th>0</th>\n",
       "      <td>1</td>\n",
       "      <td>43738</td>\n",
       "      <td>24</td>\n",
       "      <td>NaN</td>\n",
       "    </tr>\n",
       "    <tr>\n",
       "      <th>1</th>\n",
       "      <td>2</td>\n",
       "      <td>1006090</td>\n",
       "      <td>21</td>\n",
       "      <td>NaN</td>\n",
       "    </tr>\n",
       "    <tr>\n",
       "      <th>2</th>\n",
       "      <td>2</td>\n",
       "      <td>1076929</td>\n",
       "      <td>24</td>\n",
       "      <td>NaN</td>\n",
       "    </tr>\n",
       "    <tr>\n",
       "      <th>3</th>\n",
       "      <td>1</td>\n",
       "      <td>1081321</td>\n",
       "      <td>23</td>\n",
       "      <td>NaN</td>\n",
       "    </tr>\n",
       "    <tr>\n",
       "      <th>4</th>\n",
       "      <td>2</td>\n",
       "      <td>216151</td>\n",
       "      <td>24</td>\n",
       "      <td>NaN</td>\n",
       "    </tr>\n",
       "    <tr>\n",
       "      <th>...</th>\n",
       "      <td>...</td>\n",
       "      <td>...</td>\n",
       "      <td>...</td>\n",
       "      <td>...</td>\n",
       "    </tr>\n",
       "    <tr>\n",
       "      <th>372</th>\n",
       "      <td>2</td>\n",
       "      <td>1101571</td>\n",
       "      <td>21</td>\n",
       "      <td>NaN</td>\n",
       "    </tr>\n",
       "    <tr>\n",
       "      <th>373</th>\n",
       "      <td>2</td>\n",
       "      <td>1090258</td>\n",
       "      <td>24</td>\n",
       "      <td>NaN</td>\n",
       "    </tr>\n",
       "    <tr>\n",
       "      <th>374</th>\n",
       "      <td>2</td>\n",
       "      <td>906595</td>\n",
       "      <td>21</td>\n",
       "      <td>NaN</td>\n",
       "    </tr>\n",
       "    <tr>\n",
       "      <th>375</th>\n",
       "      <td>2</td>\n",
       "      <td>32245</td>\n",
       "      <td>21</td>\n",
       "      <td>NaN</td>\n",
       "    </tr>\n",
       "    <tr>\n",
       "      <th>376</th>\n",
       "      <td>2</td>\n",
       "      <td>1006090</td>\n",
       "      <td>22</td>\n",
       "      <td>NaN</td>\n",
       "    </tr>\n",
       "  </tbody>\n",
       "</table>\n",
       "<p>377 rows × 4 columns</p>\n",
       "</div>"
      ],
      "text/plain": [
       "    CategoryCode  ItemCode  Week  PredictedSales\n",
       "0              1     43738    24             NaN\n",
       "1              2   1006090    21             NaN\n",
       "2              2   1076929    24             NaN\n",
       "3              1   1081321    23             NaN\n",
       "4              2    216151    24             NaN\n",
       "..           ...       ...   ...             ...\n",
       "372            2   1101571    21             NaN\n",
       "373            2   1090258    24             NaN\n",
       "374            2    906595    21             NaN\n",
       "375            2     32245    21             NaN\n",
       "376            2   1006090    22             NaN\n",
       "\n",
       "[377 rows x 4 columns]"
      ]
     },
     "execution_count": 337,
     "metadata": {},
     "output_type": "execute_result"
    }
   ],
   "source": [
    "test_df"
   ]
  },
  {
   "cell_type": "code",
   "execution_count": 338,
   "metadata": {
    "colab": {
     "base_uri": "https://localhost:8080/",
     "height": 423
    },
    "id": "tOE7X8BK3DJC",
    "outputId": "a10d91f4-d845-47fd-c386-25948e43f7b1"
   },
   "outputs": [
    {
     "data": {
      "text/html": [
       "<div>\n",
       "<style scoped>\n",
       "    .dataframe tbody tr th:only-of-type {\n",
       "        vertical-align: middle;\n",
       "    }\n",
       "\n",
       "    .dataframe tbody tr th {\n",
       "        vertical-align: top;\n",
       "    }\n",
       "\n",
       "    .dataframe thead th {\n",
       "        text-align: right;\n",
       "    }\n",
       "</style>\n",
       "<table border=\"1\" class=\"dataframe\">\n",
       "  <thead>\n",
       "    <tr style=\"text-align: right;\">\n",
       "      <th></th>\n",
       "      <th>CategoryCode</th>\n",
       "      <th>ItemCode</th>\n",
       "      <th>Week</th>\n",
       "      <th>PredictedSales</th>\n",
       "    </tr>\n",
       "  </thead>\n",
       "  <tbody>\n",
       "    <tr>\n",
       "      <th>0</th>\n",
       "      <td>1</td>\n",
       "      <td>43738</td>\n",
       "      <td>24</td>\n",
       "      <td>17</td>\n",
       "    </tr>\n",
       "    <tr>\n",
       "      <th>1</th>\n",
       "      <td>2</td>\n",
       "      <td>1006090</td>\n",
       "      <td>21</td>\n",
       "      <td>15</td>\n",
       "    </tr>\n",
       "    <tr>\n",
       "      <th>2</th>\n",
       "      <td>2</td>\n",
       "      <td>1076929</td>\n",
       "      <td>24</td>\n",
       "      <td>6</td>\n",
       "    </tr>\n",
       "    <tr>\n",
       "      <th>3</th>\n",
       "      <td>1</td>\n",
       "      <td>1081321</td>\n",
       "      <td>23</td>\n",
       "      <td>2</td>\n",
       "    </tr>\n",
       "    <tr>\n",
       "      <th>4</th>\n",
       "      <td>2</td>\n",
       "      <td>216151</td>\n",
       "      <td>24</td>\n",
       "      <td>13</td>\n",
       "    </tr>\n",
       "    <tr>\n",
       "      <th>...</th>\n",
       "      <td>...</td>\n",
       "      <td>...</td>\n",
       "      <td>...</td>\n",
       "      <td>...</td>\n",
       "    </tr>\n",
       "    <tr>\n",
       "      <th>372</th>\n",
       "      <td>2</td>\n",
       "      <td>1101571</td>\n",
       "      <td>21</td>\n",
       "      <td>7</td>\n",
       "    </tr>\n",
       "    <tr>\n",
       "      <th>373</th>\n",
       "      <td>2</td>\n",
       "      <td>1090258</td>\n",
       "      <td>24</td>\n",
       "      <td>18</td>\n",
       "    </tr>\n",
       "    <tr>\n",
       "      <th>374</th>\n",
       "      <td>2</td>\n",
       "      <td>906595</td>\n",
       "      <td>21</td>\n",
       "      <td>7</td>\n",
       "    </tr>\n",
       "    <tr>\n",
       "      <th>375</th>\n",
       "      <td>2</td>\n",
       "      <td>32245</td>\n",
       "      <td>21</td>\n",
       "      <td>51</td>\n",
       "    </tr>\n",
       "    <tr>\n",
       "      <th>376</th>\n",
       "      <td>2</td>\n",
       "      <td>1006090</td>\n",
       "      <td>22</td>\n",
       "      <td>15</td>\n",
       "    </tr>\n",
       "  </tbody>\n",
       "</table>\n",
       "<p>377 rows × 4 columns</p>\n",
       "</div>"
      ],
      "text/plain": [
       "    CategoryCode  ItemCode  Week  PredictedSales\n",
       "0              1     43738    24              17\n",
       "1              2   1006090    21              15\n",
       "2              2   1076929    24               6\n",
       "3              1   1081321    23               2\n",
       "4              2    216151    24              13\n",
       "..           ...       ...   ...             ...\n",
       "372            2   1101571    21               7\n",
       "373            2   1090258    24              18\n",
       "374            2    906595    21               7\n",
       "375            2     32245    21              51\n",
       "376            2   1006090    22              15\n",
       "\n",
       "[377 rows x 4 columns]"
      ]
     },
     "execution_count": 338,
     "metadata": {},
     "output_type": "execute_result"
    }
   ],
   "source": [
    "X_test = test_df.drop(columns=['PredictedSales'])\n",
    "\n",
    "test_df['PredictedSales'] = knn.predict(X_test)\n",
    "\n",
    "test_df\n"
   ]
  },
  {
   "cell_type": "code",
   "execution_count": 339,
   "metadata": {
    "colab": {
     "base_uri": "https://localhost:8080/",
     "height": 17
    },
    "id": "35iBZ_ad3WaB",
    "outputId": "61593353-fdef-4470-a992-00b8799c58dd"
   },
   "outputs": [],
   "source": [
    "new_df = pd.DataFrame(columns = ['ID','WeeklySales'])\n",
    "\n",
    "for index, row in test_df.iterrows():\n",
    "  dic={}\n",
    "  n = int(row['Week'])-20\n",
    "  stri = \"category_\"+str(row['CategoryCode'])+\"_\"+str(row['ItemCode'])+\"_w\"+str(n)\n",
    "  dict = {'ID':stri,'WeeklySales':int(row['PredictedSales'])}\n",
    "  new_df=new_df.append(dict,ignore_index=True)\n",
    "\n",
    "# from google.colab import files\n",
    "# new_df.to_csv(\"forth_submission.csv\", index = False)\n",
    "# files.download('forth_submission.csv')\n"
   ]
  }
 ],
 "metadata": {
  "accelerator": "GPU",
  "colab": {
   "name": "Copy of datastorm_2.ipynb",
   "provenance": []
  },
  "kernelspec": {
   "display_name": "Python 3 (ipykernel)",
   "language": "python",
   "name": "python3"
  },
  "language_info": {
   "codemirror_mode": {
    "name": "ipython",
    "version": 3
   },
   "file_extension": ".py",
   "mimetype": "text/x-python",
   "name": "python",
   "nbconvert_exporter": "python",
   "pygments_lexer": "ipython3",
   "version": "3.9.7"
  }
 },
 "nbformat": 4,
 "nbformat_minor": 1
}
